{
 "cells": [
  {
   "cell_type": "markdown",
   "id": "67459362-db5e-48ec-b08e-c1b9ae81f093",
   "metadata": {},
   "source": [
    "# yolo串串香竹签数量检测"
   ]
  },
  {
   "cell_type": "markdown",
   "metadata": {},
   "source": [
    "### 1.导入环境"
   ]
  },
  {
   "cell_type": "code",
   "execution_count": 1,
   "id": "6587c366-29de-4d29-86cd-cbd144ddf732",
   "metadata": {},
   "outputs": [],
   "source": [
    "import numpy as np\n",
    "\n",
    "import tracker\n",
    "from detector import Detector\n",
    "import cv2\n",
    "import os\n",
    "os.environ['KMP_DUPLICATE_LIB_OK']='True'\n"
   ]
  },
  {
   "cell_type": "markdown",
   "id": "ee0e77f0-2059-44bd-96ad-5acca605be05",
   "metadata": {},
   "source": [
    "### 2. 设置参数"
   ]
  },
  {
   "cell_type": "code",
   "execution_count": 7,
   "id": "47f71541-bc32-4e6f-adbb-f0405eb95b8f",
   "metadata": {},
   "outputs": [],
   "source": [
    "list_pts_blue = [[1020, 1080],  [1000, 1080], [1000, 0], [1020, 0]]\n",
    "list_pts_yellow = [[1000, 1080],  [980, 1080], [980, 0], [1000, 0]]\n",
    "\n",
    "yaml = 'data\\Tea\\yolov5-tea.yaml'\n",
    "weights = './weights/best58.pt'\n",
    "yolo = False\n",
    "\n",
    "classify_id = ['Tea']\n",
    "video_path = 'QQ视频20231122174123.mp4'\n",
    "\n",
    "output = 'result2.mp4' # 保存图像"
   ]
  },
  {
   "cell_type": "markdown",
   "id": "1ee19a6b-0568-4c99-918c-1274f43e2ab7",
   "metadata": {},
   "source": [
    "### 3. 运行监测"
   ]
  },
  {
   "cell_type": "code",
   "execution_count": 5,
   "id": "74e39afd-fcfa-4d54-b133-3345a98c1a21",
   "metadata": {
    "scrolled": true,
    "tags": []
   },
   "outputs": [
    {
     "data": {
      "text/plain": [
       "(['datasets/images/000001.jpg',\n",
       "  'datasets/images/000010.jpg',\n",
       "  'datasets/images/000020.jpg'],\n",
       " 32,\n",
       " ['datasets/labels/000001.txt',\n",
       "  'datasets/labels/000010.txt',\n",
       "  'datasets/labels/000020.txt'],\n",
       " 33)"
      ]
     },
     "execution_count": 5,
     "metadata": {},
     "output_type": "execute_result"
    }
   ],
   "source": [
    "from detect import *\n",
    "\n",
    "detect(list_pts_blue, list_pts_yellow, yaml, weights, yolo, classify_id, video_path, output)"
   ]
  }
 ],
 "metadata": {
  "AIGalleryInfo": "",
  "flavorInfo": {
   "architecture": "X86_64",
   "category": "GPU"
  },
  "imageInfo": {
   "id": "278e88d1-5b71-4766-8502-b3ba72e824d9",
   "name": "pytorch1.8-cuda10.2-cudnn7-ubuntu18.04"
  },
  "kernelspec": {
   "display_name": "KZ",
   "language": "python",
   "name": "python3"
  },
  "language_info": {
   "codemirror_mode": {
    "name": "ipython",
    "version": 3
   },
   "file_extension": ".py",
   "mimetype": "text/x-python",
   "name": "python",
   "nbconvert_exporter": "python",
   "pygments_lexer": "ipython3",
   "version": "3.7.16"
  }
 },
 "nbformat": 4,
 "nbformat_minor": 5
}
